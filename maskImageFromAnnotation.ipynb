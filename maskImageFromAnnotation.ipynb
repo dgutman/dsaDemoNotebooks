{
 "cells": [
  {
   "cell_type": "code",
   "execution_count": 2,
   "id": "7cf98f14",
   "metadata": {},
   "outputs": [
    {
     "name": "stdout",
     "output_type": "stream",
     "text": [
      "Login or email: admin\n",
      "Password for admin: ········\n"
     ]
    }
   ],
   "source": [
    "import girder_client\n",
    "import os\n",
    "import numpy as np\n",
    "import matplotlib.pyplot as plt\n",
    "import large_image\n",
    "from shapely.geometry.polygon import Polygon\n",
    "from shapely import GeometryCollection\n",
    "#https://www.uv.es/gonmagar/blog/2018/11/11/RasterioExample\n",
    "%matplotlib inline\n",
    "## https://stackoverflow.com/questions/36399381/whats-the-fastest-way-of-checking-if-a-point-is-inside-a-polygon-in-python\n",
    "#https://digitalslidearchive.github.io/HistomicsTK/examples/using_large_image.html\n",
    "## Girder Client / large Image API info\n",
    "gc = girder_client.GirderClient(apiUrl=\"https://styx.neurology.emory.edu/girder/api/v1\")\n",
    "_ = gc.authenticate(interactive=True)"
   ]
  },
  {
   "cell_type": "code",
   "execution_count": 3,
   "id": "0508f1c6",
   "metadata": {},
   "outputs": [
    {
     "name": "stderr",
     "output_type": "stream",
     "text": [
      "/home/dagutman/.local/lib/python3.8/site-packages/glymur/config.py:153: UserWarning: The tiff library at /home/dagutman/.local/lib/python3.8/site-packages/Glymur.libs/libtiff-a107d8f8.so.6.0.0 could not be loaded.\n",
      "  warnings.warn(msg, UserWarning)\n"
     ]
    },
    {
     "data": {
      "text/plain": [
       "{'levels': 9,\n",
       " 'sizeX': 47808,\n",
       " 'sizeY': 41741,\n",
       " 'tileWidth': 240,\n",
       " 'tileHeight': 240,\n",
       " 'magnification': 20.0,\n",
       " 'mm_x': 0.0005044,\n",
       " 'mm_y': 0.0005044}"
      ]
     },
     "execution_count": 3,
     "metadata": {},
     "output_type": "execute_result"
    }
   ],
   "source": [
    "#refImage is online at styx.neurology.emory.edu .. I downloaded it already for testing..\n",
    "sampleItem = '63cefc614da1ec8c4f65fe53'\n",
    "ts = large_image.getTileSource(\"./Case 2.svs\")\n",
    "## Load the tile source\n",
    "ts.getMetadata() "
   ]
  },
  {
   "cell_type": "code",
   "execution_count": 4,
   "id": "5649bb07",
   "metadata": {},
   "outputs": [
    {
     "name": "stdout",
     "output_type": "stream",
     "text": [
      "{'description': 'Shapes included regions we WANT to keep', 'name': 'dagRegionMask'} 63d02c944da1ec8c4f65fe5d\n"
     ]
    }
   ],
   "source": [
    "## First get the annotations available for the item of interst\n",
    "availAnnotations = gc.get(\"annotation?itemId=%s\" % sampleItem)\n",
    "for a in availAnnotations:\n",
    "    print(a['annotation'],a['_id'])"
   ]
  },
  {
   "cell_type": "code",
   "execution_count": 5,
   "id": "afb77f4a",
   "metadata": {},
   "outputs": [],
   "source": [
    "from pprint import pprint\n",
    "\n",
    "## From above I only have one annotation, the dagRegionMask, I am just grabbing the itemId I want to grab the annotationObject\n",
    "ao = gc.get(\"annotation/%s\" % availAnnotations[0]['_id']) ## I am getting the first anntation object in this case\n",
    "# pprint(ao)\n",
    "## The key here to notice is the ['annotation']['elements'][0] which has the shape I am interested in.. then it's a set of points\n",
    "\n",
    "roiPolygon = ao['annotation']['elements'][0]\n",
    "roiPolygonPts = [(x,y) for (x,y,z) in roiPolygon['points']]\n",
    "roiMask = Polygon(roiPolygonPts)"
   ]
  },
  {
   "cell_type": "code",
   "execution_count": 34,
   "id": "041d5567",
   "metadata": {},
   "outputs": [
    {
     "name": "stdout",
     "output_type": "stream",
     "text": [
      "Number of tiles = 132\n"
     ]
    }
   ],
   "source": [
    "from shapely.affinity import affine_transform\n",
    "import rasterio\n",
    "import rasterio.features\n",
    "from rasterio import Affine\n",
    "from PIL import Image\n",
    "\n",
    "md = ts.getMetadata()\n",
    "baseSlidePoly = Polygon([(0,0),(0,md['sizeY']),(md['sizeX'],md['sizeY']),(md['sizeX'],0)])\n",
    "\n",
    "tile_means = []\n",
    "tile_areas = []\n",
    "shapeSet = [roiMask]\n",
    "tileIntersect = []\n",
    "intersectionList = []\n",
    "sink = large_image.new()\n",
    "\n",
    "## Iterate in base pixels with a strike of 4000x4000 and return np arrays\n",
    "tileSize=4000\n",
    "num_tiles = 0\n",
    "\n",
    "## Using 196 as background instead of 255\n",
    "backgroundtile = np.ones([tileSize,tileSize],dtype=np.uint8)*243# Create RGBA Image that is all white\n",
    "\n",
    "# np.ma.masked_where(roi_mask_p, tile_info['tile'])\n",
    "\n",
    "for tile_info in ts.tileIterator(\n",
    "    region=dict(units='base_pixels'),\n",
    "    scale=dict(magnification=20),\n",
    "    tile_size=dict(width=tileSize, height=tileSize),\n",
    "    format=large_image.constants.TILE_FORMAT_NUMPY\n",
    "):\n",
    "\n",
    "    tix = tile_info['x'] ### Just an alias for tile_x and tile_y  ## which do not exist\n",
    "    tiy = tile_info['y'] ### Just an alias for tile_x and tile_y\n",
    "    tiw = tile_info['width']\n",
    "    tih = tile_info['height']\n",
    "    \n",
    "    tileBounds = [(tix,tiy), (tix,tiy+tih), ((tix+tiw),(tiy+tih)),(tix+tiw,tiy)]\n",
    "    tilePoly = Polygon(tileBounds)\n",
    "\n",
    "    if roiMask.contains(tilePoly):\n",
    "        ## Do not need a mask, entire ROI is within the shape\n",
    "        sink.addTile( tile_info['tile'],tix,tiy  )\n",
    "\n",
    "        #print(\"The objects are bounded..\",tileBounds)\n",
    "    elif roiMask.intersects(tilePoly):\n",
    "        tileIntersect.append( tilePoly)\n",
    "        intersectionList.append( (roiMask.intersection(tilePoly),tileBounds) )\n",
    "        \n",
    "        ### Need to also fix the coordinates of the polygon before I can use it as a mask\n",
    "        overlapPoly = roiMask.intersection(tilePoly)\n",
    "        \n",
    "        ixfm = Affine.identity()\n",
    "        s_xfm = [1,0,0,1,-1*tix,-1*tiy]  ## need to shim axis so I don't need to generate a giant numpy array that's 40kx40k\n",
    "        poly_w_xfm = affine_transform(overlapPoly,s_xfm)\n",
    "\n",
    "        roi_mask = rasterio.features.geometry_mask([poly_w_xfm],out_shape=(tile_info['height'],tile_info['width']),\n",
    "                                                   transform=ixfm,invert=True)\n",
    "        \n",
    "        ## This version made the copied image gray..\n",
    "        im1 = Image.fromarray(tile_info['tile'])\n",
    "        im2 = Image.fromarray( backgroundtile)  ## Need to do this just once above\n",
    "        im_mask = Image.fromarray(roi_mask)\n",
    "        \n",
    "        \n",
    "        rgbimg = Image.new(\"RGBA\", im2.size)\n",
    "        rgbimg.paste(im2)\n",
    "        im_c = Image.composite(im1, rgbimg, im_mask)\n",
    "#         im_c = Image.composite(im1, im2, im_mask)\n",
    "        sink.addTile( im_c,tix,tiy )\n",
    "    else:\n",
    "        ## Background area\n",
    "        sink.addTile( backgroundtile, tix, tiy)\n",
    "    num_tiles += 1\n",
    "\n",
    "print('Number of tiles = {}'.format(num_tiles))"
   ]
  },
  {
   "cell_type": "code",
   "execution_count": 33,
   "id": "e47625ed",
   "metadata": {},
   "outputs": [
    {
     "data": {
      "text/plain": [
       "array([242.57216081, 242.65412763, 242.57955031, 255.        ])"
      ]
     },
     "execution_count": 33,
     "metadata": {},
     "output_type": "execute_result"
    }
   ],
   "source": []
  },
  {
   "cell_type": "code",
   "execution_count": 35,
   "id": "a9db677e",
   "metadata": {},
   "outputs": [],
   "source": [
    "sink.write(\"./maskedCaseDemoV4_added_white_at244_rgbamask.tiff\")\n",
    "#poly_w_xfm"
   ]
  },
  {
   "cell_type": "code",
   "execution_count": null,
   "id": "60e49b7e",
   "metadata": {},
   "outputs": [],
   "source": [
    "backgroundtile\n",
    "# # for nparray, x, y in fancy_algorithm():\n",
    "# #     # We could optionally add a mask to limit the output\n",
    "# #     source.addTile(nparray, x, y)\n",
    "# # source.write('/tmp/sample.tiff', lossy=False)\n",
    "np.average(tile_info['tile'][:,:,:])\n"
   ]
  },
  {
   "cell_type": "code",
   "execution_count": null,
   "id": "d710d5ff",
   "metadata": {},
   "outputs": [],
   "source": [
    "#https://github.com/DigitalSlideArchive/HistomicsTK/blob/master/histomicstk/cli/utils.py"
   ]
  },
  {
   "cell_type": "code",
   "execution_count": null,
   "id": "c11b77be",
   "metadata": {},
   "outputs": [],
   "source": []
  },
  {
   "cell_type": "code",
   "execution_count": null,
   "id": "34922bb2",
   "metadata": {},
   "outputs": [],
   "source": [
    "poly, bound_box = intersectionList[2]\n",
    "\n",
    "xfm = [1,0,0,1,-1*bound_box[0][0],-1*bound_box[0][1]]\n",
    "poly_w_xfm = affine_transform(poly,xfm)\n"
   ]
  },
  {
   "cell_type": "code",
   "execution_count": null,
   "id": "2cb741a2",
   "metadata": {},
   "outputs": [],
   "source": [
    "# affinity_xfm = [1,0,0,1,0,0]\n",
    "from rasterio import Affine\n",
    "\n",
    "\n",
    "ixfm = Affine.identity()\n",
    "\n",
    "roi_mask = rasterio.features.geometry_mask([poly_w_xfm],out_shape=(4000,4000),transform=ixfm)\n",
    "plt.imshow(roi_mask)"
   ]
  },
  {
   "cell_type": "code",
   "execution_count": null,
   "id": "a539774d",
   "metadata": {},
   "outputs": [],
   "source": [
    "roi_mask"
   ]
  },
  {
   "cell_type": "code",
   "execution_count": null,
   "id": "7bdb7558",
   "metadata": {},
   "outputs": [],
   "source": [
    "list(poly_w_xfm.exterior.coords)"
   ]
  },
  {
   "cell_type": "code",
   "execution_count": null,
   "id": "7236cdef",
   "metadata": {},
   "outputs": [],
   "source": [
    "sink = large_image.new()\n",
    "# sink.addTile(numpydarray, x, y)\n",
    "# sink.save()\n",
    "\n"
   ]
  },
  {
   "cell_type": "code",
   "execution_count": null,
   "id": "02f41559",
   "metadata": {},
   "outputs": [],
   "source": [
    "\n",
    "from skimage.draw import line, polygon, circle, ellipse\n",
    "a_mask = np.ones((2000,2000),dtype=\"bool\")\n",
    "poly_c = np.array( intersectionList[0].exterior.coords)\n",
    "rr, cc = polygon(poly_c[:,0], poly_c[:,1], (2000,2000))\n"
   ]
  },
  {
   "cell_type": "code",
   "execution_count": null,
   "id": "0db7040d",
   "metadata": {},
   "outputs": [],
   "source": [
    "poly.exterior.bounds"
   ]
  },
  {
   "cell_type": "code",
   "execution_count": null,
   "id": "388ee22e",
   "metadata": {},
   "outputs": [],
   "source": [
    "GeometryCollection(intersectionList)"
   ]
  },
  {
   "cell_type": "code",
   "execution_count": null,
   "id": "b8bfa118",
   "metadata": {},
   "outputs": [],
   "source": [
    "GeometryCollection(tileIntersect)\n",
    "# baseSlidePoly.exterior.coords.xy ## Get the exterior hull coordinates for sanity check"
   ]
  },
  {
   "cell_type": "code",
   "execution_count": null,
   "id": "f1657ec7",
   "metadata": {},
   "outputs": [],
   "source": [
    "# baseSlidePoly.intersection(tilePoly)\n",
    "GeometryCollection([tilePoly,baseSlidePoly])"
   ]
  }
 ],
 "metadata": {
  "kernelspec": {
   "display_name": "Python 3 (ipykernel)",
   "language": "python",
   "name": "python3"
  },
  "language_info": {
   "codemirror_mode": {
    "name": "ipython",
    "version": 3
   },
   "file_extension": ".py",
   "mimetype": "text/x-python",
   "name": "python",
   "nbconvert_exporter": "python",
   "pygments_lexer": "ipython3",
   "version": "3.8.10"
  }
 },
 "nbformat": 4,
 "nbformat_minor": 5
}
